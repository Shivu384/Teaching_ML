{
 "cells": [
  {
   "cell_type": "code",
   "execution_count": null,
   "id": "6e04d59a",
   "metadata": {},
   "outputs": [],
   "source": [
    "if __name__ == '__main__':\n",
    "    x = int(input())\n",
    "    y = int(input())\n",
    "    z = int(input())\n",
    "    n = int(input())\n",
    "    \n",
    "    result =[]\n",
    "    \n",
    "    for i in range (0,x+1):\n",
    "        for j in range(0,y+1):\n",
    "            for k in range(0,z+1):\n",
    "                if i+j+k!=n:\n",
    "                    result.append([i,j,k])\n",
    "                    \n",
    "    print(result)"
   ]
  },
  {
   "cell_type": "code",
   "execution_count": null,
   "id": "2c569227",
   "metadata": {},
   "outputs": [],
   "source": []
  },
  {
   "cell_type": "code",
   "execution_count": null,
   "id": "e2a24b7d",
   "metadata": {},
   "outputs": [],
   "source": []
  },
  {
   "cell_type": "code",
   "execution_count": null,
   "id": "c4947ee4",
   "metadata": {},
   "outputs": [],
   "source": [
    "number = \"3,874,215,655:654'454,666,\"\n",
    "print(number[1::4])\n",
    "seperators = number[1::4]\n",
    "\n",
    "values=\"\".join(char if char not in seperators else \" \" for char in number).split()\n",
    "print([int(val) for val in values])"
   ]
  },
  {
   "cell_type": "code",
   "execution_count": null,
   "id": "d8b56038",
   "metadata": {},
   "outputs": [],
   "source": [
    "name=\"Ravi,Prashant,Prem,Ankur\"\n",
    "separated = \"\"\n",
    "j = len(name)\n",
    "for i in range(0,j):\n",
    "    if name[i] == \",\":\n",
    "        separated+=name[i]\n",
    "naam = \"\".join(char if char not in separated else \" \" for char in name).split()\n",
    "# print([str(val) for val in naam])\n",
    "print(naam)"
   ]
  },
  {
   "cell_type": "code",
   "execution_count": null,
   "id": "fd6c6246",
   "metadata": {},
   "outputs": [],
   "source": []
  },
  {
   "cell_type": "code",
   "execution_count": null,
   "id": "872c769b",
   "metadata": {},
   "outputs": [],
   "source": []
  },
  {
   "cell_type": "code",
   "execution_count": null,
   "id": "0fb4b949",
   "metadata": {},
   "outputs": [],
   "source": []
  },
  {
   "cell_type": "code",
   "execution_count": null,
   "id": "014eb784",
   "metadata": {},
   "outputs": [],
   "source": [
    "def average_marks(student_records, query_name):\n",
    "    if query_name in student_records:\n",
    "        avg_marks = sum(student_records[query_name]) / len(student_records[query_name])\n",
    "        print(\"{:.2f}\".format(avg_marks))\n",
    "    else:\n",
    "        print(\"Student not found.\")\n",
    "\n",
    "if __name__ == '__main__':\n",
    "    n = int(input())\n",
    "    student_marks = {}\n",
    "    for _ in range(n):\n",
    "        data = input().split()\n",
    "        name = data[0]\n",
    "        scores = list(map(float, data[1:]))\n",
    "        student_marks[name] = scores\n",
    "    query_name = input()\n",
    "    \n",
    "    average_marks(student_marks, query_name)"
   ]
  },
  {
   "cell_type": "code",
   "execution_count": null,
   "id": "a991718c",
   "metadata": {},
   "outputs": [],
   "source": []
  },
  {
   "cell_type": "code",
   "execution_count": null,
   "id": "5bcd7d66",
   "metadata": {},
   "outputs": [],
   "source": []
  },
  {
   "cell_type": "code",
   "execution_count": null,
   "id": "e1ad1df8",
   "metadata": {},
   "outputs": [],
   "source": [
    "x, y, z, n = (int(input()) for _ in range(4))\n",
    "\n",
    "result = [[i, j, k] for i in range(x + 1) for j in range(y + 1) for k in range(z + 1) if i + j + k != n]\n",
    "\n",
    "print(result)\n"
   ]
  },
  {
   "cell_type": "code",
   "execution_count": null,
   "id": "464964c5",
   "metadata": {},
   "outputs": [],
   "source": []
  },
  {
   "cell_type": "code",
   "execution_count": null,
   "id": "58132a4f",
   "metadata": {},
   "outputs": [],
   "source": [
    "def main():\n",
    "    x=get_int()\n",
    "    print(x)\n",
    "\n",
    "def get_int():\n",
    "    while True:\n",
    "        try:\n",
    "            return int(input(\"Enter a Integer\"))\n",
    "            break\n",
    "        except ValueError:\n",
    "            pass\n",
    "\n",
    "\n",
    "main()"
   ]
  },
  {
   "cell_type": "code",
   "execution_count": null,
   "id": "448b8e84",
   "metadata": {},
   "outputs": [],
   "source": []
  },
  {
   "cell_type": "code",
   "execution_count": null,
   "id": "c2fc3814",
   "metadata": {},
   "outputs": [],
   "source": []
  },
  {
   "cell_type": "code",
   "execution_count": null,
   "id": "8b6c6721",
   "metadata": {},
   "outputs": [],
   "source": []
  },
  {
   "cell_type": "code",
   "execution_count": null,
   "id": "caa0ba80",
   "metadata": {},
   "outputs": [],
   "source": [
    "if __name__ == '__main__':\n",
    "    n = int(input())\n",
    "    arr = list(map(int, input().split()))\n",
    "    max_val = max(arr)\n",
    "    runner_up = max([x for x in arr if x != max_val])\n",
    "    print(runner_up)"
   ]
  },
  {
   "cell_type": "code",
   "execution_count": null,
   "id": "4c129234",
   "metadata": {},
   "outputs": [],
   "source": []
  },
  {
   "cell_type": "code",
   "execution_count": null,
   "id": "bac5f44e",
   "metadata": {},
   "outputs": [],
   "source": []
  },
  {
   "cell_type": "code",
   "execution_count": null,
   "id": "2d6127b9",
   "metadata": {},
   "outputs": [],
   "source": [
    "if __name__ == '__main__':\n",
    "    # Input the number of students\n",
    "    n = int(input())\n",
    "\n",
    "    # Create a nested list to store names and grades\n",
    "    students = []\n",
    "    for _ in range(n):\n",
    "        name = input()\n",
    "        grade = float(input())\n",
    "        students.append([name, grade])\n",
    "\n",
    "    # Sort the students based on grades\n",
    "    students.sort(key=lambda x: (x[1], x[0]))\n",
    "\n",
    "    # Find the second lowest grade\n",
    "    second_lowest_grade = sorted(set(grade for name, grade in students))[1]\n",
    "\n",
    "    # Print the names of students with the second lowest grade\n",
    "    for name, grade in students:\n",
    "        if grade == second_lowest_grade:\n",
    "            print(name)\n",
    "    "
   ]
  }
 ],
 "metadata": {
  "kernelspec": {
   "display_name": "Python 3 (ipykernel)",
   "language": "python",
   "name": "python3"
  },
  "language_info": {
   "codemirror_mode": {
    "name": "ipython",
    "version": 3
   },
   "file_extension": ".py",
   "mimetype": "text/x-python",
   "name": "python",
   "nbconvert_exporter": "python",
   "pygments_lexer": "ipython3",
   "version": "3.11.5"
  }
 },
 "nbformat": 4,
 "nbformat_minor": 5
}
