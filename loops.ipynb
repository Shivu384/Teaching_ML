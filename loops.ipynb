{
 "cells": [
  {
   "cell_type": "code",
   "execution_count": 3,
   "id": "29c74987",
   "metadata": {},
   "outputs": [
    {
     "name": "stdout",
     "output_type": "stream",
     "text": [
      "Enter Number a: 15\n",
      "Enter Number b: 23\n",
      "A is larger\n"
     ]
    }
   ],
   "source": [
    "a = int(input(\"Enter Number a: \"))\n",
    "b = int(input(\"Enter Number b: \"))\n",
    "if a>b:\n",
    "    print(\"A is larger\")\n",
    "else:\n",
    "    print(\"B is larger\")\n"
   ]
  },
  {
   "cell_type": "code",
   "execution_count": 6,
   "id": "98b06217",
   "metadata": {},
   "outputs": [
    {
     "name": "stdout",
     "output_type": "stream",
     "text": [
      "Enter a prime number43\n",
      "prime\n"
     ]
    }
   ],
   "source": [
    "#prime number\n",
    "a = int(input(\"Enter a prime number\"))\n",
    "c=0\n",
    "for i in range(2,(a//2)+1):\n",
    "    if a%i==0:\n",
    "        c+=1\n",
    "        break\n",
    "if c>=1:\n",
    "    print(\"Not Prime\")\n",
    "    \n",
    "else:\n",
    "    print(\"prime\")"
   ]
  },
  {
   "cell_type": "code",
   "execution_count": 5,
   "id": "3b1dd334",
   "metadata": {},
   "outputs": [
    {
     "name": "stdout",
     "output_type": "stream",
     "text": [
      "Enter a number till where you want to find the prime number: 100\n",
      "1 is unique number\n",
      "2 is Prime\n",
      "3 is Prime\n",
      "5 is Prime\n",
      "7 is Prime\n",
      "11 is Prime\n",
      "13 is Prime\n",
      "17 is Prime\n",
      "19 is Prime\n",
      "23 is Prime\n",
      "29 is Prime\n",
      "31 is Prime\n",
      "37 is Prime\n",
      "41 is Prime\n",
      "43 is Prime\n",
      "47 is Prime\n",
      "53 is Prime\n",
      "59 is Prime\n",
      "61 is Prime\n",
      "67 is Prime\n",
      "71 is Prime\n",
      "73 is Prime\n",
      "79 is Prime\n",
      "83 is Prime\n",
      "89 is Prime\n",
      "97 is Prime\n"
     ]
    }
   ],
   "source": [
    "#print prime number till n \n",
    "\n",
    "a = int(input(\"Enter a number till where you want to find the prime number: \"))\n",
    "if a>0:\n",
    "    print(\"1 is unique number\")\n",
    "for i in range (2,a+1):\n",
    "    c=0\n",
    "    for j in range(2,int(i/2)+1):\n",
    "        if i%j==0:\n",
    "            c=1\n",
    "    if c!=1: \n",
    "        print(f\"{i} is Prime\")"
   ]
  },
  {
   "cell_type": "code",
   "execution_count": null,
   "id": "456c7af0",
   "metadata": {},
   "outputs": [],
   "source": [
    "a = int(input(\"Enter a number till where you want to find prime numbers: \"))\n",
    "\n",
    "if a > 0:\n",
    "    print(\"1 is not a prime number\")\n",
    "\n",
    "for i in range(2, a + 1):\n",
    "    for j in range(2, int(i/2) + 1):\n",
    "        if i % j == 0:\n",
    "            break\n",
    "    else:\n",
    "        print(f\"{i} is Prime\")\n"
   ]
  },
  {
   "cell_type": "code",
   "execution_count": null,
   "id": "c8d586ec",
   "metadata": {},
   "outputs": [],
   "source": []
  }
 ],
 "metadata": {
  "kernelspec": {
   "display_name": "Python 3 (ipykernel)",
   "language": "python",
   "name": "python3"
  },
  "language_info": {
   "codemirror_mode": {
    "name": "ipython",
    "version": 3
   },
   "file_extension": ".py",
   "mimetype": "text/x-python",
   "name": "python",
   "nbconvert_exporter": "python",
   "pygments_lexer": "ipython3",
   "version": "3.11.5"
  }
 },
 "nbformat": 4,
 "nbformat_minor": 5
}
