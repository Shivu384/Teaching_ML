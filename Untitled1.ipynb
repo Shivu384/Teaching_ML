{
 "cells": [
  {
   "cell_type": "code",
   "execution_count": 7,
   "id": "ee5b3e48",
   "metadata": {},
   "outputs": [
    {
     "name": "stdout",
     "output_type": "stream",
     "text": [
      "snap\n",
      "0\n",
      "a\n",
      "asnap\n"
     ]
    }
   ],
   "source": [
    "def mutate_string(string, position, character):\n",
    "    if position < 0:\n",
    "        position = 0\n",
    "    elif position > len(string):\n",
    "        position = len(string)\n",
    "\n",
    "    n_string=string[:position]+character+string[position:]\n",
    "    return n_string\n",
    "        \n",
    "    \n",
    "\n",
    "if __name__ == '__main__':\n",
    "    s = input()\n",
    "    i = int(input())\n",
    "    a = input()\n",
    "    s_new = mutate_string(s, i, a)\n",
    "    print(s_new)\n"
   ]
  },
  {
   "cell_type": "code",
   "execution_count": 4,
   "id": "f1382b41",
   "metadata": {},
   "outputs": [
    {
     "name": "stdout",
     "output_type": "stream",
     "text": [
      "Enter a string: aman\n",
      "Enter a character to insert: m\n",
      "Enter the position to insert the character: 2\n",
      "Modified string: amman\n"
     ]
    }
   ],
   "source": [
    "def insert_char_at_position(original_string, char_to_insert, position):\n",
    "    if position < 0:\n",
    "        position = 0\n",
    "    elif position > len(original_string):\n",
    "        position = len(original_string)\n",
    "    \n",
    "    modified_string = original_string[:position] + char_to_insert + original_string[position:]\n",
    "    return modified_string\n",
    "\n",
    "# Example usage:\n",
    "user_input = input(\"Enter a string: \")\n",
    "char_to_insert = input(\"Enter a character to insert: \")\n",
    "position = int(input(\"Enter the position to insert the character: \"))\n",
    "\n",
    "result = insert_char_at_position(user_input, char_to_insert, position)\n",
    "print(\"Modified string:\", result)\n"
   ]
  },
  {
   "cell_type": "code",
   "execution_count": null,
   "id": "a08d77a7",
   "metadata": {},
   "outputs": [],
   "source": []
  },
  {
   "cell_type": "code",
   "execution_count": null,
   "id": "ff59bab0",
   "metadata": {},
   "outputs": [],
   "source": []
  }
 ],
 "metadata": {
  "kernelspec": {
   "display_name": "Python 3 (ipykernel)",
   "language": "python",
   "name": "python3"
  },
  "language_info": {
   "codemirror_mode": {
    "name": "ipython",
    "version": 3
   },
   "file_extension": ".py",
   "mimetype": "text/x-python",
   "name": "python",
   "nbconvert_exporter": "python",
   "pygments_lexer": "ipython3",
   "version": "3.11.5"
  }
 },
 "nbformat": 4,
 "nbformat_minor": 5
}
