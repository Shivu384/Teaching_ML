{
 "cells": [
  {
   "cell_type": "code",
   "execution_count": null,
   "id": "8acdd46a",
   "metadata": {},
   "outputs": [],
   "source": [
    "x= \"arun\"\n",
    "y=\"shetty\"\n",
    "z=x[0:1]+ \" \" +y\n",
    "print(z.title())"
   ]
  },
  {
   "cell_type": "markdown",
   "id": "35ab83dc",
   "metadata": {},
   "source": [
    "# Taking Input from the user"
   ]
  },
  {
   "cell_type": "code",
   "execution_count": 5,
   "id": "318a5221",
   "metadata": {},
   "outputs": [
    {
     "name": "stdout",
     "output_type": "stream",
     "text": [
      "Enter your name: prashant\n",
      "My name is prashant\n"
     ]
    }
   ],
   "source": [
    "a = input(\"Enter your name: \")\n",
    "print(\"My name is \" +a)"
   ]
  },
  {
   "cell_type": "code",
   "execution_count": 6,
   "id": "545823ef",
   "metadata": {},
   "outputs": [
    {
     "name": "stdout",
     "output_type": "stream",
     "text": [
      "Enter your age18\n",
      "prashant is 18 years old\n"
     ]
    }
   ],
   "source": [
    "b = int(input(\"Enter your age\"))\n",
    "print(a +\" is \" + str(b)+ \" years old\")"
   ]
  },
  {
   "cell_type": "code",
   "execution_count": 7,
   "id": "b1d46e09",
   "metadata": {},
   "outputs": [
    {
     "name": "stdout",
     "output_type": "stream",
     "text": [
      "prashant is 18 years old\n"
     ]
    }
   ],
   "source": [
    "print(f\"{a} is {b} years old\")"
   ]
  },
  {
   "cell_type": "code",
   "execution_count": 8,
   "id": "bf109dde",
   "metadata": {},
   "outputs": [
    {
     "ename": "ValueError",
     "evalue": "not enough values to unpack (expected 2, got 1)",
     "output_type": "error",
     "traceback": [
      "\u001b[1;31m---------------------------------------------------------------------------\u001b[0m",
      "\u001b[1;31mValueError\u001b[0m                                Traceback (most recent call last)",
      "Cell \u001b[1;32mIn[8], line 1\u001b[0m\n\u001b[1;32m----> 1\u001b[0m first,last\u001b[38;5;241m=\u001b[39ma\u001b[38;5;241m.\u001b[39msplit() \n\u001b[0;32m      2\u001b[0m \u001b[38;5;28mprint\u001b[39m(\u001b[38;5;124mf\u001b[39m\u001b[38;5;124m\"\u001b[39m\u001b[38;5;132;01m{\u001b[39;00mfirst[\u001b[38;5;241m0\u001b[39m]\u001b[38;5;241m+\u001b[39m\u001b[38;5;124m'\u001b[39m\u001b[38;5;124m. \u001b[39m\u001b[38;5;124m'\u001b[39m\u001b[38;5;241m+\u001b[39mlast\u001b[38;5;132;01m}\u001b[39;00m\u001b[38;5;124m is \u001b[39m\u001b[38;5;132;01m{\u001b[39;00mb\u001b[38;5;132;01m}\u001b[39;00m\u001b[38;5;124m years old\u001b[39m\u001b[38;5;124m\"\u001b[39m)\n",
      "\u001b[1;31mValueError\u001b[0m: not enough values to unpack (expected 2, got 1)"
     ]
    }
   ],
   "source": [
    "first,last=a.split() \n",
    "print(f\"{first[0]+'. '+last} is {b} years old\")"
   ]
  },
  {
   "cell_type": "code",
   "execution_count": 11,
   "id": "8a02631d",
   "metadata": {},
   "outputs": [
    {
     "name": "stdout",
     "output_type": "stream",
     "text": [
      "Enter you name:      Prashant\n"
     ]
    }
   ],
   "source": [
    "name = input(\"Enter you name: \")"
   ]
  },
  {
   "cell_type": "code",
   "execution_count": 12,
   "id": "d1e41cf9",
   "metadata": {},
   "outputs": [
    {
     "name": "stdout",
     "output_type": "stream",
     "text": [
      "     Prashant\n",
      "Prashant\n",
      "     prashant\n",
      "     PRASHANT\n"
     ]
    }
   ],
   "source": [
    "print(name.title())\n",
    "print(name.strip())\n",
    "print(name.lower())\n",
    "print(name.upper())"
   ]
  },
  {
   "cell_type": "code",
   "execution_count": 13,
   "id": "7cdb4d33",
   "metadata": {},
   "outputs": [
    {
     "name": "stdout",
     "output_type": "stream",
     "text": [
      "13\n",
      "<class 'str'>\n"
     ]
    }
   ],
   "source": [
    "print(len(name))\n",
    "print(type(name))"
   ]
  },
  {
   "cell_type": "code",
   "execution_count": null,
   "id": "d51ad6e4",
   "metadata": {},
   "outputs": [],
   "source": [
    "s=input()"
   ]
  },
  {
   "cell_type": "code",
   "execution_count": null,
   "id": "9644f8e0",
   "metadata": {},
   "outputs": [],
   "source": [
    "type(s)"
   ]
  },
  {
   "cell_type": "code",
   "execution_count": null,
   "id": "cbb049e8",
   "metadata": {},
   "outputs": [],
   "source": [
    "s=int(s)"
   ]
  },
  {
   "cell_type": "code",
   "execution_count": null,
   "id": "79106e7f",
   "metadata": {},
   "outputs": [],
   "source": [
    "type(s)"
   ]
  },
  {
   "cell_type": "code",
   "execution_count": 15,
   "id": "2d30f5fb",
   "metadata": {},
   "outputs": [
    {
     "name": "stdout",
     "output_type": "stream",
     "text": [
      "prashant kiet.edu\n"
     ]
    }
   ],
   "source": [
    "email = \"prashant@kiet.edu\"\n",
    "first,mail = email.split(\"@\")\n",
    "print(first,mail)"
   ]
  },
  {
   "cell_type": "code",
   "execution_count": null,
   "id": "63e2ce97",
   "metadata": {},
   "outputs": [],
   "source": []
  },
  {
   "cell_type": "code",
   "execution_count": null,
   "id": "eff7e5f3",
   "metadata": {},
   "outputs": [],
   "source": []
  }
 ],
 "metadata": {
  "kernelspec": {
   "display_name": "Python 3 (ipykernel)",
   "language": "python",
   "name": "python3"
  },
  "language_info": {
   "codemirror_mode": {
    "name": "ipython",
    "version": 3
   },
   "file_extension": ".py",
   "mimetype": "text/x-python",
   "name": "python",
   "nbconvert_exporter": "python",
   "pygments_lexer": "ipython3",
   "version": "3.11.5"
  }
 },
 "nbformat": 4,
 "nbformat_minor": 5
}
