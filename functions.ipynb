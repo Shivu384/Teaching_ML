{
 "cells": [
  {
   "cell_type": "code",
   "execution_count": 1,
   "id": "4c48c99e",
   "metadata": {},
   "outputs": [
    {
     "name": "stdout",
     "output_type": "stream",
     "text": [
      "Enter a integer :2\n",
      "Even\n"
     ]
    }
   ],
   "source": [
    "def is_even(n):\n",
    "    if n%2==0:\n",
    "        return \"Even\"\n",
    "    else:\n",
    "        return \"Odd\"\n",
    "    \n",
    "n = int(input(\"Enter a integer :\"))\n",
    "a =is_even(n)\n",
    "print(a)"
   ]
  },
  {
   "cell_type": "code",
   "execution_count": 6,
   "id": "e0af7756",
   "metadata": {},
   "outputs": [
    {
     "name": "stdout",
     "output_type": "stream",
     "text": [
      "Arav Pandey\n"
     ]
    }
   ],
   "source": [
    "def info(name,lname):\n",
    "    print(name,lname)\n",
    "#info(\"Arav\",\"Pandey\")\n",
    "#info(\"Pandey\",\"Arav\")\n",
    "info(lname = \"Pandey\",name = \"Arav\")"
   ]
  },
  {
   "cell_type": "code",
   "execution_count": 15,
   "id": "7a443b23",
   "metadata": {},
   "outputs": [
    {
     "name": "stdout",
     "output_type": "stream",
     "text": [
      "Hello\n",
      "Welcome\n",
      "to\n",
      "Innogeeks\n"
     ]
    }
   ],
   "source": [
    "def myFun(*argv):\n",
    "    for arg in argv:\n",
    "        print(arg)\n",
    "\n",
    "\n",
    "myFun('Hello', 'Welcome', 'to', 'Innogeeks')\n"
   ]
  },
  {
   "cell_type": "code",
   "execution_count": 17,
   "id": "5bf82500",
   "metadata": {},
   "outputs": [
    {
     "name": "stdout",
     "output_type": "stream",
     "text": [
      "First argument : Hello\n",
      "Next argument through *argv : Welcome\n",
      "Next argument through *argv : to\n",
      "Next argument through *argv : Innogeeks\n",
      "Next argument through *argv : rara\n"
     ]
    }
   ],
   "source": [
    "def myFun(arg1, *argv):\n",
    "    print(\"First argument :\", arg1)\n",
    "    for arg in argv:\n",
    "        print(\"Next argument through *argv :\", arg)\n",
    "\n",
    "\n",
    "myFun('Hello', 'Welcome', 'to', 'Innogeeks')\n"
   ]
  },
  {
   "cell_type": "code",
   "execution_count": 19,
   "id": "e5c700f8",
   "metadata": {
    "collapsed": true
   },
   "outputs": [
    {
     "name": "stdout",
     "output_type": "stream",
     "text": [
      "arg1: Hello\n",
      "arg2: Every\n",
      "arg3: One\n",
      "arg1: Hello\n",
      "arg2: Every\n",
      "arg3: One\n"
     ]
    }
   ],
   "source": [
    "def myFun(arg1, arg2, arg3):\n",
    "    print(\"arg1:\", arg1)\n",
    "    print(\"arg2:\", arg2)\n",
    "    print(\"arg3:\", arg3)\n",
    "    \n",
    "args = (\"Hello\", \"Every\", \"One\")\n",
    "myFun(*args)\n",
    "\n",
    "kwargs = {\"arg1\": \"Hello\", \"arg2\": \"Every\", \"arg3\": \"One\"}\n",
    "myFun(**kwargs)\n"
   ]
  },
  {
   "cell_type": "code",
   "execution_count": 20,
   "id": "bfb74d0a",
   "metadata": {},
   "outputs": [
    {
     "name": "stdout",
     "output_type": "stream",
     "text": [
      "His last name is Refsnes\n"
     ]
    }
   ],
   "source": [
    "def my_function(**kid):\n",
    "  print(\"His last name is \" + kid[\"lname\"])\n",
    "\n",
    "my_function(fname = \"Tobias\", lname = \"Refsnes\")"
   ]
  },
  {
   "cell_type": "code",
   "execution_count": 21,
   "id": "15da892b",
   "metadata": {},
   "outputs": [
    {
     "name": "stdout",
     "output_type": "stream",
     "text": [
      "Enter a Integerabab\n",
      "x is not an integer\n",
      "Enter a Integer2\n",
      "number is 2\n"
     ]
    }
   ],
   "source": [
    "while True:\n",
    "    try:\n",
    "        x = int(input(\"Enter a Integer\"))\n",
    "        break\n",
    "    except ValueError:\n",
    "        print(\"x is not an integer\")\n",
    "\n",
    "print(f\"number is {x}\")"
   ]
  },
  {
   "cell_type": "code",
   "execution_count": null,
   "id": "026fce5f",
   "metadata": {},
   "outputs": [],
   "source": []
  }
 ],
 "metadata": {
  "kernelspec": {
   "display_name": "Python 3 (ipykernel)",
   "language": "python",
   "name": "python3"
  },
  "language_info": {
   "codemirror_mode": {
    "name": "ipython",
    "version": 3
   },
   "file_extension": ".py",
   "mimetype": "text/x-python",
   "name": "python",
   "nbconvert_exporter": "python",
   "pygments_lexer": "ipython3",
   "version": "3.11.5"
  }
 },
 "nbformat": 4,
 "nbformat_minor": 5
}
