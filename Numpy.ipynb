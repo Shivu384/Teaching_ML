{
 "cells": [
  {
   "cell_type": "markdown",
   "id": "6f67cb12",
   "metadata": {},
   "source": [
    "#     Numpy"
   ]
  },
  {
   "cell_type": "markdown",
   "id": "268ca743",
   "metadata": {},
   "source": [
    "## Introduction"
   ]
  },
  {
   "cell_type": "markdown",
   "id": "0962ccff",
   "metadata": {},
   "source": [
    "- **Overview:**\n",
    "  - NumPy, short for Numerical Python, is a powerful library for numerical and mathematical operations in Python.\n",
    "  - It provides support for large, multi-dimensional arrays and matrices, along with a collection of high-level mathematical functions to operate on these arrays.\n"
   ]
  },
  {
   "cell_type": "markdown",
   "id": "89b50c28",
   "metadata": {},
   "source": [
    "### Creating Arrays\n",
    "- **Creating arrays using `np.array()`:**\n",
    "  - Use `np.array()` to create arrays from Python lists or tuples.\n",
    "  - Arrays are the fundamental data structure in NumPy."
   ]
  },
  {
   "cell_type": "code",
   "execution_count": 2,
   "id": "69fac054",
   "metadata": {},
   "outputs": [],
   "source": [
    "import numpy as np\n",
    "arr = np.array([1, 2, 3])"
   ]
  },
  {
   "cell_type": "markdown",
   "id": "91677268",
   "metadata": {},
   "source": [
    "- **Using `np.zeros()` and `np.ones()`:**\n",
    "  - Create arrays filled with zeros or ones using these functions.\n",
    "  - Useful for initializing arrays before populating them with data.\n",
    "  "
   ]
  },
  {
   "cell_type": "code",
   "execution_count": 3,
   "id": "a15b38ae",
   "metadata": {},
   "outputs": [],
   "source": [
    "zeros_arr = np.zeros((2, 3))  # 2x3 array of zeros\n",
    "ones_arr = np.ones((3, 2))  "
   ]
  },
  {
   "cell_type": "markdown",
   "id": "c11c4bd3",
   "metadata": {},
   "source": [
    "- **Generating arrays with `np.arange()` and `np.linspace()`:**\n",
    "  - `np.arange()` creates arrays with regularly spaced values.\n",
    "  - `np.linspace()` generates arrays with a specified number of elements between two values.\n"
   ]
  },
  {
   "cell_type": "code",
   "execution_count": 5,
   "id": "fe3dc688",
   "metadata": {},
   "outputs": [],
   "source": [
    "arange_arr = np.arange(0, 10, 2)  # Array from 0 to 10 with step 2\n",
    "linspace_arr = np.linspace(0, 1, 5)"
   ]
  },
  {
   "cell_type": "markdown",
   "id": "0a8ef3d9",
   "metadata": {},
   "source": [
    "- **Creating random arrays with `np.random`:**\n",
    "  - Use functions like `np.random.rand()` and `np.random.randn()` to create arrays with random values.\n",
    "  - Helpful for simulations and random sampling."
   ]
  },
  {
   "cell_type": "code",
   "execution_count": 6,
   "id": "d28f1e45",
   "metadata": {},
   "outputs": [],
   "source": [
    "random_arr = np.random.rand(2, 3)"
   ]
  },
  {
   "cell_type": "markdown",
   "id": "96ba684e",
   "metadata": {},
   "source": [
    "### Array Indexing and Slicing\n",
    "- **Accessing and modifying elements:**\n",
    "  - Use square brackets to access elements of an array.\n",
    "  - Modify elements by assigning new values."
   ]
  },
  {
   "cell_type": "code",
   "execution_count": 7,
   "id": "8743130b",
   "metadata": {},
   "outputs": [
    {
     "name": "stdout",
     "output_type": "stream",
     "text": [
      "3\n"
     ]
    }
   ],
   "source": [
    "arr = np.array([1, 2, 3, 4, 5])\n",
    "print(arr[2])    \n",
    "arr[1] = 10 "
   ]
  },
  {
   "cell_type": "markdown",
   "id": "390d74c0",
   "metadata": {},
   "source": [
    "### Indexing in one-dimensional and multi-dimensional arrays:"
   ]
  },
  {
   "cell_type": "code",
   "execution_count": 8,
   "id": "e508c3f9",
   "metadata": {},
   "outputs": [
    {
     "name": "stdout",
     "output_type": "stream",
     "text": [
      "6\n"
     ]
    }
   ],
   "source": [
    "multi_arr = np.array([[1, 2, 3], [4, 5, 6]])\n",
    "print(multi_arr[1, 2])"
   ]
  },
  {
   "cell_type": "markdown",
   "id": "84174d51",
   "metadata": {},
   "source": [
    "### Slicing arrays and understanding views:"
   ]
  },
  {
   "cell_type": "code",
   "execution_count": 9,
   "id": "8d9c33ae",
   "metadata": {},
   "outputs": [],
   "source": [
    "arr = np.array([1, 2, 3, 4, 5])\n",
    "sliced_arr = arr[1:4]  # Slice from index 1 to 3 (output: [2, 3, 4])\n",
    "sliced_arr[0] = 10     # Modifying the slice also modifies the original array\n",
    "  "
   ]
  },
  {
   "cell_type": "markdown",
   "id": "61c6c86e",
   "metadata": {},
   "source": [
    "### Data Types and Copy vs View"
   ]
  },
  {
   "cell_type": "markdown",
   "id": "8a458f1e",
   "metadata": {},
   "source": [
    "Understanding NumPy data types (`dtype`)"
   ]
  },
  {
   "cell_type": "code",
   "execution_count": 10,
   "id": "d85832d2",
   "metadata": {},
   "outputs": [],
   "source": [
    "arr = np.array([1, 2, 3], dtype='float64')"
   ]
  },
  {
   "cell_type": "markdown",
   "id": "1de26122",
   "metadata": {},
   "source": [
    "Copying vs. viewing arrays"
   ]
  },
  {
   "cell_type": "code",
   "execution_count": 11,
   "id": "fe1678d4",
   "metadata": {},
   "outputs": [],
   "source": [
    "original_arr = np.array([1, 2, 3])\n",
    "view_arr = original_arr[1:]  # View of the original array\n",
    "copy_arr = np.copy(original_arr)  # Explicit copy"
   ]
  },
  {
   "cell_type": "markdown",
   "id": "362640b5",
   "metadata": {},
   "source": [
    "Explicit copy operations"
   ]
  },
  {
   "cell_type": "code",
   "execution_count": 12,
   "id": "f238c012",
   "metadata": {},
   "outputs": [],
   "source": [
    "arr = np.array([1, 2, 3])\n",
    "copy_arr = np.copy(arr)"
   ]
  },
  {
   "cell_type": "markdown",
   "id": "6a324b75",
   "metadata": {},
   "source": [
    "### Array Shape and Reshape"
   ]
  },
  {
   "cell_type": "markdown",
   "id": "28df0bdc",
   "metadata": {},
   "source": [
    "Understanding array shape (`shape`, `ndim`, `size`):\n",
    "  - `shape` returns the dimensions of an array.\n",
    "  - `ndim` returns the number of dimensions.\n",
    "  - `size` returns the total number of elements."
   ]
  },
  {
   "cell_type": "code",
   "execution_count": 13,
   "id": "a5633a3e",
   "metadata": {},
   "outputs": [
    {
     "name": "stdout",
     "output_type": "stream",
     "text": [
      "(2, 3)\n",
      "2\n",
      "6\n"
     ]
    }
   ],
   "source": [
    "arr = np.array([[1, 2, 3], [4, 5, 6]])\n",
    "print(arr.shape)  \n",
    "print(arr.ndim)   \n",
    "print(arr.size)  "
   ]
  },
  {
   "cell_type": "markdown",
   "id": "74b57e75",
   "metadata": {},
   "source": [
    "Reshaping arrays with `reshape()`\n",
    "- Change the shape of an array using `reshape()`.\n",
    "- Use `-1` as a placeholder to automatically calculate one dimension during reshaping."
   ]
  },
  {
   "cell_type": "code",
   "execution_count": 14,
   "id": "48e44463",
   "metadata": {},
   "outputs": [],
   "source": [
    "arr = np.arange(1, 10)\n",
    "reshaped_arr = arr.reshape((3, -1))"
   ]
  },
  {
   "cell_type": "markdown",
   "id": "fcf91c66",
   "metadata": {},
   "source": [
    "### Array Iterating and Universal Functions (ufuncs)"
   ]
  },
  {
   "cell_type": "markdown",
   "id": "d9c9aa2e",
   "metadata": {},
   "source": [
    "- **Iterating through arrays with loops:**\n",
    "  - Use loops to iterate through elements in an array.\n",
    "  - Useful for custom operations on each element."
   ]
  },
  {
   "cell_type": "code",
   "execution_count": 15,
   "id": "c3b7120d",
   "metadata": {},
   "outputs": [
    {
     "name": "stdout",
     "output_type": "stream",
     "text": [
      "1\n",
      "2\n",
      "3\n"
     ]
    }
   ],
   "source": [
    "arr = np.array([1, 2, 3])\n",
    "for elem in arr:\n",
    "    print(elem)"
   ]
  },
  {
   "cell_type": "markdown",
   "id": "b559f155",
   "metadata": {},
   "source": [
    "- **Introduction to `nditer`:**\n",
    "  - `nditer` is an efficient multi-dimensional iterator object in NumPy.\n",
    "  - Enables iteration over arrays in a flexible and memory-efficient way.\n"
   ]
  },
  {
   "cell_type": "code",
   "execution_count": 16,
   "id": "a0f26360",
   "metadata": {},
   "outputs": [
    {
     "name": "stdout",
     "output_type": "stream",
     "text": [
      "1\n",
      "2\n",
      "3\n",
      "4\n"
     ]
    }
   ],
   "source": [
    "arr = np.array([[1, 2], [3, 4]])\n",
    "for elem in np.nditer(arr):\n",
    "    print(elem)\n"
   ]
  },
  {
   "cell_type": "markdown",
   "id": "d23fa5cc",
   "metadata": {},
   "source": [
    "- **Basic understanding of universal functions:**\n",
    "  - Universal functions (`ufuncs`) operate element-wise on arrays.\n",
    "  - Examples include mathematical functions like `np.sin()` and `np.exp()`."
   ]
  },
  {
   "cell_type": "code",
   "execution_count": 18,
   "id": "3b5495de",
   "metadata": {},
   "outputs": [],
   "source": [
    "arr = np.array([1, 2, 3])\n",
    "sin_arr = np.sin(arr)"
   ]
  },
  {
   "cell_type": "markdown",
   "id": "d5538c76",
   "metadata": {},
   "source": [
    "### Linear Algebra Operations"
   ]
  },
  {
   "cell_type": "markdown",
   "id": "9b691487",
   "metadata": {},
   "source": [
    "- **Matrix multiplication:**\n",
    "  - Perform matrix multiplication using `np.dot()` or the `@` operator.\n",
    "  - Understand the difference between element-wise multiplication and matrix multiplication."
   ]
  },
  {
   "cell_type": "code",
   "execution_count": 20,
   "id": "e7dbc8bb",
   "metadata": {},
   "outputs": [],
   "source": [
    "matrix_a = np.array([[1, 2], [3, 4]])\n",
    "matrix_b = np.array([[5, 6], [7, 8]])"
   ]
  },
  {
   "cell_type": "code",
   "execution_count": 21,
   "id": "2411b7ee",
   "metadata": {},
   "outputs": [],
   "source": [
    "result = np.dot(matrix_a, matrix_b)"
   ]
  },
  {
   "cell_type": "markdown",
   "id": "3eac4a40",
   "metadata": {},
   "source": [
    "- **Eigenvalues and eigenvectors:**\n",
    "  - Compute eigenvalues and eigenvectors of a matrix using `np.linalg.eig()`."
   ]
  },
  {
   "cell_type": "code",
   "execution_count": 22,
   "id": "f064b4ab",
   "metadata": {},
   "outputs": [],
   "source": [
    "matrix = np.array([[1, 2], [2, 4]])\n",
    "eigenvalues, eigenvectors = np.linalg.eig(matrix)"
   ]
  },
  {
   "cell_type": "markdown",
   "id": "fdac5e94",
   "metadata": {},
   "source": [
    "- **Solving linear equations:**\n",
    "  - Use `np.linalg.solve()` to solve systems of linear equations."
   ]
  },
  {
   "cell_type": "markdown",
   "id": "adb39b4f",
   "metadata": {},
   "source": [
    "### File Input/Output and Memory Layout "
   ]
  },
  {
   "cell_type": "markdown",
   "id": "756bbd9f",
   "metadata": {},
   "source": [
    "- **Saving and loading NumPy arrays:**\n",
    "  - Use `np.save()` and `np.load()` for simple binary file storage.\n",
    "  - Explore `np.savetxt()` and `np.loadtxt()` for text file storage."
   ]
  },
  {
   "cell_type": "code",
   "execution_count": 23,
   "id": "c1431c6d",
   "metadata": {},
   "outputs": [],
   "source": [
    "arr = np.array([1, 2, 3])\n",
    "np.save('saved_array.npy', arr)\n",
    "loaded_arr = np.load('saved_array.npy')"
   ]
  },
  {
   "cell_type": "markdown",
   "id": "6200a542",
   "metadata": {},
   "source": [
    "- **Understanding memory layout:**\n",
    "  - NumPy arrays are stored in contiguous blocks of memory.\n",
    "  - Considerations for memory layout can impact performance."
   ]
  },
  {
   "cell_type": "code",
   "execution_count": 24,
   "id": "5aa8f7c2",
   "metadata": {},
   "outputs": [
    {
     "name": "stdout",
     "output_type": "stream",
     "text": [
      "True\n"
     ]
    }
   ],
   "source": [
    "arr = np.array([[1, 2], [3, 4]])\n",
    "print(arr.flags['C_CONTIGUOUS'])"
   ]
  },
  {
   "cell_type": "markdown",
   "id": "1537c8b7",
   "metadata": {},
   "source": [
    "### Advanced Indexing and Broadcasting"
   ]
  },
  {
   "cell_type": "markdown",
   "id": "1b5347cc",
   "metadata": {},
   "source": [
    "- **Boolean indexing:**\n",
    "  - Use boolean arrays to index and filter elements based on conditions.\n"
   ]
  },
  {
   "cell_type": "code",
   "execution_count": 25,
   "id": "227ed95d",
   "metadata": {},
   "outputs": [],
   "source": [
    "arr = np.array([1, 2, 3, 4, 5])\n",
    "mask = arr > 2\n",
    "filtered_arr = arr[mask]"
   ]
  },
  {
   "cell_type": "markdown",
   "id": "d926c8f5",
   "metadata": {},
   "source": [
    "- **Fancy indexing:**\n",
    "  - Use arrays of indices to access or modify specific elements."
   ]
  },
  {
   "cell_type": "code",
   "execution_count": 26,
   "id": "6b6358b5",
   "metadata": {},
   "outputs": [],
   "source": [
    "arr = np.array([1, 2, 3, 4, 5])\n",
    "indices = np.array([1, 3, 4])\n",
    "selected_arr = arr[indices]"
   ]
  },
  {
   "cell_type": "markdown",
   "id": "a757a531",
   "metadata": {},
   "source": [
    "- **Advanced broadcasting:**\n",
    "  - Broadcasting allows for performing operations on arrays of different shapes and sizes.\n"
   ]
  },
  {
   "cell_type": "code",
   "execution_count": 27,
   "id": "a0b1aee4",
   "metadata": {},
   "outputs": [],
   "source": [
    "arr = np.array([[1, 2, 3], [4, 5, 6]])\n",
    "scalar = 10\n",
    "result = arr + scalar"
   ]
  },
  {
   "cell_type": "code",
   "execution_count": null,
   "id": "01756bdd",
   "metadata": {},
   "outputs": [],
   "source": []
  }
 ],
 "metadata": {
  "kernelspec": {
   "display_name": "Python 3 (ipykernel)",
   "language": "python",
   "name": "python3"
  },
  "language_info": {
   "codemirror_mode": {
    "name": "ipython",
    "version": 3
   },
   "file_extension": ".py",
   "mimetype": "text/x-python",
   "name": "python",
   "nbconvert_exporter": "python",
   "pygments_lexer": "ipython3",
   "version": "3.9.13"
  }
 },
 "nbformat": 4,
 "nbformat_minor": 5
}
