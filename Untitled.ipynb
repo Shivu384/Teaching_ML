{
 "cells": [
  {
   "cell_type": "code",
   "execution_count": 3,
   "id": "564a0ca2",
   "metadata": {},
   "outputs": [],
   "source": [
    "x=\"Arun\"\n",
    "y=\"shetty\"\n",
    "z=(x[0]+' '+y)"
   ]
  },
  {
   "cell_type": "code",
   "execution_count": 4,
   "id": "25e2873a",
   "metadata": {},
   "outputs": [
    {
     "name": "stdout",
     "output_type": "stream",
     "text": [
      "A shetty\n"
     ]
    }
   ],
   "source": [
    "print(z)"
   ]
  },
  {
   "cell_type": "code",
   "execution_count": null,
   "id": "a2a8c46b",
   "metadata": {},
   "outputs": [],
   "source": []
  }
 ],
 "metadata": {
  "kernelspec": {
   "display_name": "Python 3 (ipykernel)",
   "language": "python",
   "name": "python3"
  },
  "language_info": {
   "codemirror_mode": {
    "name": "ipython",
    "version": 3
   },
   "file_extension": ".py",
   "mimetype": "text/x-python",
   "name": "python",
   "nbconvert_exporter": "python",
   "pygments_lexer": "ipython3",
   "version": "3.11.5"
  }
 },
 "nbformat": 4,
 "nbformat_minor": 5
}
